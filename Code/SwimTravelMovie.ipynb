{
 "cells": [
  {
   "cell_type": "code",
   "execution_count": null,
   "metadata": {},
   "outputs": [],
   "source": [
    "#Generate Videos of Rays swimming based off of simulated swimming velocities\n",
    "#Requires already having performed LBM simulation of a ray\n",
    "#Disease Biophysics Group\n",
    "#Written by John Zimmerman\n",
    "#Updated 6/13/2024\n",
    "\n",
    "\n",
    "import pandas as pd\n",
    "import os\n",
    "import numpy as np\n",
    "from matplotlib.pyplot import *\n",
    "import matplotlib\n",
    "import GeoSwimmer\n",
    "import SwimMesh\n",
    "\n",
    "import scipy.stats\n",
    "from scipy.interpolate import UnivariateSpline\n",
    "from matplotlib.colors import ListedColormap, LinearSegmentedColormap"
   ]
  },
  {
   "cell_type": "code",
   "execution_count": null,
   "metadata": {},
   "outputs": [],
   "source": [
    "def movAvg(x,N):\n",
    "    return np.convolve(x, np.ones((N,))/N, mode='valid')\n",
    "\n",
    "#Initial Variables\n",
    "ReductionFactor = 1\n",
    "\n",
    "#Time Steps\n",
    "dt = 1.0/60.0 #Second per simulation step\n",
    "dx = 0.1 #Size of each grid space\n",
    "totalsimtime = 24.0 #seconds\n",
    "wscale = 4 #worldscale\n",
    "\n",
    "#Stimulation\n",
    "Hz = 1.0 #Stimulation Frequency\n",
    "cycletime = int(np.round(1 /(Hz*dt)))\n",
    "print('Cycle frames: '+ str(cycletime))\n",
    "\n",
    "#Mtf Variables - \n",
    "slantangle = -30.0 #Angle that the film is patterned at\n",
    "maxr = 8  #Circle max - mm contraction radius assumed\n",
    "minr = 1.4 #Circle min - mm contraction radius assumed"
   ]
  },
  {
   "cell_type": "code",
   "execution_count": null,
   "metadata": {},
   "outputs": [],
   "source": [
    "#Contraction Profile\n",
    "profile = np.loadtxt('Contraction_profile2.txt')\n",
    "t = np.linspace(0,1,profile.size)\n",
    "profilespline = UnivariateSpline(t,profile,k=3,s=.001)\n",
    "\n",
    "#Transfer Profile\n",
    "t = np.linspace(0,10,30)\n",
    "a,b = 3,-0.2\n",
    "g = scipy.stats.gamma(a,b).pdf(t)\n",
    "g = g/g.max()\n",
    "g = (1-g)*0.58\n",
    "dif = g\n",
    "difspline = UnivariateSpline(np.linspace(0,1,dif.size),dif,k=3,s=.001)"
   ]
  },
  {
   "cell_type": "code",
   "execution_count": null,
   "metadata": {},
   "outputs": [],
   "source": [
    "swimname = 'GLIDAA'\n",
    "\n",
    "#Path of where to save the video files to\n",
    "savloc = 'G:\\\\...\\\\'\n",
    "\n",
    "#Path of where the simulated travel veloctites are\n",
    "velfiles = \"G:\\\\Johnny Zimmerman\\\\DBG\\\\Data\\\\Simulated\\\\2023_07_06 SingleSim\\\\SwimVelocities\\\\\"\n",
    "\n",
    "#Load Velocity\n",
    "velocities = np.loadtxt(velfiles+swimname+'_velocity.txt')\n",
    "\n",
    "tri,vertdict = SwimMesh.generateMeshHalf(swimname,40,gscale=wscale,arg='pqa1.2')    \n",
    "verts = np.array(tri['vertices'])\n",
    "triangles = tri['triangles']\n",
    "slantr = SwimMesh.reduce_slant(verts,slantangle)\n",
    "\n",
    "savecheck = os.path.exists(savloc+swimname)\n",
    "if savecheck == False:\n",
    "    os.makedirs(savloc+swimname)"
   ]
  },
  {
   "cell_type": "code",
   "execution_count": null,
   "metadata": {
    "scrolled": true
   },
   "outputs": [],
   "source": [
    "pos = 0\n",
    "i = 0\n",
    "#num = 0\n",
    "lw = 1\n",
    "for vel in velocities[:]:\n",
    "    pos = pos + vel*dt/dx\n",
    "    xnew,ynew,znew = SwimMesh.solveContraction(verts,minr,maxr,slantangle,slantr,i%cycletime,cycletime,profilespline,difspline)\n",
    "    \n",
    "    ##Plot Velocity Top Down##\n",
    "    fig, ax = subplots(figsize=(10,4))\n",
    "    #ax.pcolormesh(xs,ys, M,cmap=cms,vmin=vlowlim,vmax=vuplim)\n",
    "\n",
    "    for vertices in triangles:\n",
    "        ax.plot(-xnew[vertices]+pos,ynew[vertices],'r--',linewidth=lw)\n",
    "        ax.plot(-xnew[[vertices[-1],vertices[0]]]+pos,ynew[[vertices[-1],vertices[0]]],'r--',linewidth=lw)\n",
    "        ax.plot(-xnew[vertices]+pos,-ynew[vertices],'r--',linewidth=lw)\n",
    "        ax.plot(-xnew[[vertices[-1],vertices[0]]]+pos,-ynew[[vertices[-1],vertices[0]]],'r--',linewidth=lw)\n",
    "\n",
    "    ax.set_xlabel('X (mm)',size=30,labelpad=20)\n",
    "    ax.set_ylabel('Y (mm)',size=30,labelpad=20)\n",
    "    \n",
    "    xlim(-25,55)\n",
    "    ylim(-10,10)\n",
    "    #xlim(-25,55)\n",
    "    #ylim(-10,10)\n",
    "    \n",
    "    savefig(savloc+swimname+'\\\\'+str(i)+'.png')\n",
    "    clf()\n",
    "    close()\n",
    "    \n",
    "    i+=1\n",
    "    print(i)"
   ]
  },
  {
   "cell_type": "code",
   "execution_count": null,
   "metadata": {},
   "outputs": [],
   "source": []
  }
 ],
 "metadata": {
  "kernelspec": {
   "display_name": "Python 3",
   "language": "python",
   "name": "python3"
  },
  "language_info": {
   "codemirror_mode": {
    "name": "ipython",
    "version": 3
   },
   "file_extension": ".py",
   "mimetype": "text/x-python",
   "name": "python",
   "nbconvert_exporter": "python",
   "pygments_lexer": "ipython3",
   "version": "3.7.6"
  }
 },
 "nbformat": 4,
 "nbformat_minor": 5
}
